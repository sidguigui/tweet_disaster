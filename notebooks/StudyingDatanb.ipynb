{
 "cells": [
  {
   "cell_type": "code",
   "execution_count": 2,
   "metadata": {},
   "outputs": [],
   "source": [
    "#importing the data\n",
    "import pandas as pd\n",
    "train_df = pd.read_csv(r'../train.csv')\n",
    "disaster_df_raw = train_df[train_df[\"target\"]==1]\n",
    "false_disaster_df_raw = train_df[train_df[\"target\"]==0]"
   ]
  },
  {
   "cell_type": "code",
   "execution_count": null,
   "metadata": {},
   "outputs": [],
   "source": [
    "#clean DF\n",
    "from NlpStudyFunctions import CleanDataframe\n",
    "\n",
    "disaster_df = CleanDataframe(disaster_df_raw,'text')\n",
    "false_disaster_df = CleanDataframe(false_disaster_df_raw, 'text')"
   ]
  },
  {
   "cell_type": "code",
   "execution_count": null,
   "metadata": {},
   "outputs": [],
   "source": [
    "from wordcloud import WordCloud\n",
    "import matplotlib.pyplot as plt\n",
    "\n",
    "#generate a word cloud\n",
    "def GenerateWordCloud(df, title):\n",
    "    text = \" \".join(review for review in df)\n",
    "    wordcloud = WordCloud(max_font_size=50, max_words=100, background_color=\"white\").generate(text)\n",
    "    \n",
    "    plt.figure(figsize=(10, 7))\n",
    "    plt.imshow(wordcloud, interpolation='bilinear')\n",
    "    plt.title(title, fontsize=15)\n",
    "    plt.axis(\"off\")\n",
    "    plt.show()\n",
    "\n",
    "GenerateWordCloud(disaster_df['text'], \"Disaster tweets\")\n",
    "GenerateWordCloud(false_disaster_df['text'], \"Non-Disaster tweets\")"
   ]
  },
  {
   "cell_type": "code",
   "execution_count": null,
   "metadata": {},
   "outputs": [],
   "source": [
    "\n",
    "from NlpStudyFunctions import GetTopWords\n",
    "\n",
    "top_word_count = 10\n",
    "top_words_right = GetTopWords(disaster_df,top_words)\n",
    "top_words_wrong = GetTopWords(false_disaster_df,top_words)\n",
    "\n",
    "\n",
    "def WordTable(word_list, title):\n",
    "    fig, ax = plt.subplots(figsize=(8, 6))\n",
    "    ax.axis('off')\n",
    "    \n",
    "    #create a table\n",
    "    table = ax.table(cellText=[word_list], loc='center', cellLoc='center')\n",
    "    table.auto_set_font_size(False)\n",
    "    table.set_fontsize(14)\n",
    "    table.scale(1, 1.5)  # Adjust the scaling of the table\n",
    "    ax.set_title(title, fontsize=16)\n",
    "    plt.show()\n",
    "\n",
    "WordTable(top_words_right, \"Disaster tweets\")\n",
    "WordTable(top_words_wrong, \"Non-Disaster tweets\")"
   ]
  },
  {
   "cell_type": "code",
   "execution_count": null,
   "metadata": {},
   "outputs": [],
   "source": [
    "import seaborn as sns\n",
    "\n",
    "keyword_right = train_df[train_df['target'] == 1]['keyword'].value_counts().head(10)\n",
    "keyword_wrong = train_df[train_df['target'] == 0]['keyword'].value_counts().head(10)\n",
    "\n",
    "fig, ax = plt.subplots(1, 2, figsize=(18, 6))\n",
    "\n",
    "# Disaster Keywords\n",
    "sns.barplot(x=keyword_right.values, y=keyword_right.index, ax=ax[0], palette=\"Reds_r\")\n",
    "ax[0].set_title('Top 10 Keywords in Disaster Tweets')\n",
    "ax[0].set_xlabel('Frequency')\n",
    "ax[0].set_ylabel('Keywords')\n",
    "\n",
    "# Non-Disaster Keywords\n",
    "sns.barplot(x=keyword_wrong.values, y=keyword_wrong.index, ax=ax[1], palette=\"Blues_r\")\n",
    "ax[1].set_title('Top 10 Keywords in Non-Disaster Tweets')\n",
    "ax[1].set_xlabel('Frequency')\n",
    "ax[1].set_ylabel('Keywords')\n",
    "\n",
    "plt.tight_layout()\n",
    "plt.show()"
   ]
  }
 ],
 "metadata": {
  "kernelspec": {
   "display_name": "salesforce_project",
   "language": "python",
   "name": "python3"
  },
  "language_info": {
   "codemirror_mode": {
    "name": "ipython",
    "version": 3
   },
   "file_extension": ".py",
   "mimetype": "text/x-python",
   "name": "python",
   "nbconvert_exporter": "python",
   "pygments_lexer": "ipython3",
   "version": "3.12.3"
  }
 },
 "nbformat": 4,
 "nbformat_minor": 2
}
